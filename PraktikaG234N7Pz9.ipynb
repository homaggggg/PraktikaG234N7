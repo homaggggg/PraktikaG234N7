{
 "cells": [
  {
   "cell_type": "code",
   "execution_count": 4,
   "metadata": {},
   "outputs": [
    {
     "name": "stdout",
     "output_type": "stream",
     "text": [
      "5\n",
      "0.0\n"
     ]
    }
   ],
   "source": [
    "import time\n",
    "\n",
    "timing = time.time()\n",
    "def levenstein(str_1, str_2):\n",
    "    n, m = len(str_1), len(str_2)\n",
    "    if n > m:\n",
    "        str_1, str_2 = str_2, str_1\n",
    "        n, m = m, n\n",
    "\n",
    "    current_row = range(n + 1)\n",
    "    for i in range(1, m + 1):\n",
    "        previous_row, current_row = current_row, [i] + [0] * n\n",
    "        for j in range(1, n + 1):\n",
    "            add, delete, change = previous_row[j] + 1, current_row[j - 1] + 1, previous_row[j - 1]\n",
    "            if str_1[j - 1] != str_2[i - 1]:\n",
    "                change += 1\n",
    "            current_row[j] = min(add, delete, change)\n",
    "\n",
    "    return current_row[n]\n",
    "\n",
    "print(levenstein('Привет наш мир', '!ПриВЕт, наш мир!'))\n",
    "print(time.time() - timing)"
   ]
  },
  {
   "cell_type": "code",
   "execution_count": 5,
   "metadata": {},
   "outputs": [
    {
     "name": "stdout",
     "output_type": "stream",
     "text": [
      "100\n",
      "0.0\n"
     ]
    }
   ],
   "source": [
    "from fuzzywuzzy import fuzz\n",
    "from fuzzywuzzy import process\n",
    "\n",
    "timing = time.time()\n",
    "a = fuzz.ratio('Привет мир', 'Привет мир')\n",
    "print(a)\n",
    "print(time.time() - timing)"
   ]
  },
  {
   "cell_type": "code",
   "execution_count": 6,
   "metadata": {},
   "outputs": [
    {
     "name": "stdout",
     "output_type": "stream",
     "text": [
      "84\n",
      "0.0010006427764892578\n"
     ]
    }
   ],
   "source": [
    "timing = time.time()\n",
    "\n",
    "a = fuzz.ratio('Привет мир', 'Привт кир')\n",
    "print(a)\n",
    "\n",
    "print(time.time() - timing)"
   ]
  },
  {
   "cell_type": "code",
   "execution_count": 7,
   "metadata": {},
   "outputs": [
    {
     "name": "stdout",
     "output_type": "stream",
     "text": [
      "100\n",
      "0.0010013580322265625\n"
     ]
    }
   ],
   "source": [
    "timing = time.time()\n",
    "\n",
    "a = fuzz.partial_ratio('Привет мир', 'Привет мир!')\n",
    "print(a)\n",
    "\n",
    "print(time.time() - timing)"
   ]
  },
  {
   "cell_type": "code",
   "execution_count": 8,
   "metadata": {},
   "outputs": [
    {
     "name": "stdout",
     "output_type": "stream",
     "text": [
      "100\n",
      "0.0\n"
     ]
    }
   ],
   "source": [
    "timing = time.time()\n",
    "\n",
    "a = fuzz.partial_ratio('Привет мир', 'Люблю колбасу, Привет мир')\n",
    "print(a)\n",
    "\n",
    "print(time.time() - timing)"
   ]
  },
  {
   "cell_type": "code",
   "execution_count": 9,
   "metadata": {},
   "outputs": [
    {
     "name": "stdout",
     "output_type": "stream",
     "text": [
      "90\n",
      "0.0\n"
     ]
    }
   ],
   "source": [
    "timing = time.time()\n",
    "\n",
    "a = fuzz.partial_ratio('Привет мир', 'Люблю колбасу, привет мир')\n",
    "print(a) \n",
    "\n",
    "print(time.time() - timing)"
   ]
  },
  {
   "cell_type": "code",
   "execution_count": 10,
   "metadata": {},
   "outputs": [
    {
     "name": "stdout",
     "output_type": "stream",
     "text": [
      "100\n",
      "0.0\n"
     ]
    }
   ],
   "source": [
    "timing = time.time()\n",
    "\n",
    "a = fuzz.token_sort_ratio('Привет наш мир', 'мир наш Привет')\n",
    "print(a)\n",
    "\n",
    "print(time.time() - timing)"
   ]
  },
  {
   "cell_type": "code",
   "execution_count": 11,
   "metadata": {},
   "outputs": [
    {
     "name": "stdout",
     "output_type": "stream",
     "text": [
      "78\n",
      "0.0\n"
     ]
    }
   ],
   "source": [
    "timing = time.time()\n",
    "\n",
    "a = fuzz.token_sort_ratio('Привет наш мир', 'мир наш любимый Привет')\n",
    "print(a)\n",
    "\n",
    "print(time.time() - timing)"
   ]
  },
  {
   "cell_type": "code",
   "execution_count": 12,
   "metadata": {},
   "outputs": [
    {
     "name": "stdout",
     "output_type": "stream",
     "text": [
      "100\n",
      "0.0\n"
     ]
    }
   ],
   "source": [
    "timing = time.time()\n",
    "\n",
    "a = fuzz.token_sort_ratio('1 2 Привет наш мир', '1 мир наш 2 ПриВЕт')\n",
    "print(a)\n",
    "\n",
    "print(time.time() - timing)"
   ]
  },
  {
   "cell_type": "code",
   "execution_count": 13,
   "metadata": {},
   "outputs": [
    {
     "name": "stdout",
     "output_type": "stream",
     "text": [
      "100\n",
      "0.0\n"
     ]
    }
   ],
   "source": [
    "timing = time.time()\n",
    "\n",
    "a = fuzz.token_set_ratio('Привет наш мир', 'мир мир наш наш наш ПриВЕт')\n",
    "print(a)\n",
    "\n",
    "print(time.time() - timing)"
   ]
  },
  {
   "cell_type": "code",
   "execution_count": 14,
   "metadata": {},
   "outputs": [
    {
     "name": "stdout",
     "output_type": "stream",
     "text": [
      "100\n",
      "0.0\n"
     ]
    }
   ],
   "source": [
    "timing = time.time()\n",
    "\n",
    "a = fuzz.WRatio('Привет наш мир', '!ПриВЕт наш мир!')\n",
    "print(a)\n",
    "\n",
    "print(time.time() - timing)"
   ]
  },
  {
   "cell_type": "code",
   "execution_count": 15,
   "metadata": {},
   "outputs": [
    {
     "name": "stdout",
     "output_type": "stream",
     "text": [
      "97\n",
      "0.0\n"
     ]
    }
   ],
   "source": [
    "timing = time.time()\n",
    "\n",
    "a = fuzz.WRatio('Привет наш мир', '!ПриВЕт, наш мир!')\n",
    "print(a)\n",
    "\n",
    "print(time.time() - timing)"
   ]
  },
  {
   "cell_type": "code",
   "execution_count": 16,
   "metadata": {},
   "outputs": [
    {
     "name": "stdout",
     "output_type": "stream",
     "text": [
      "[('Саратов', 100), ('Самара', 62)]\n",
      "0.0010006427764892578\n"
     ]
    }
   ],
   "source": [
    "timing = time.time()\n",
    "\n",
    "city = [\"Москва\", \"Санкт-Петербург\", \"Саратов\", \"Краснодар\", \"Воронеж\", \"Омск\", \"Екатеринбург\", \"Орск\", \"Красногорск\", \"Красноярск\", \"Самара\"]\n",
    "a = process.extract(\"Саратов\", city, limit=2)\n",
    "print(a)\n",
    "\n",
    "print(time.time() - timing)"
   ]
  },
  {
   "cell_type": "code",
   "execution_count": 17,
   "metadata": {},
   "outputs": [
    {
     "name": "stdout",
     "output_type": "stream",
     "text": [
      "('Красногорск', 90)\n",
      "0.0\n"
     ]
    }
   ],
   "source": [
    "timing = time.time()\n",
    "\n",
    "city = [\"Москва\", \"Санкт-Петербург\", \"Саратов\", \"Краснодар\", \"Воронеж\", \"Омск\", \"Екатеринбург\", \"Орск\", \"Красногорск\", \"Красноярск\", \"Самара\"]\n",
    "a = process.extractOne(\"Краногрск\", city)\n",
    "print(a)\n",
    "\n",
    "print(time.time() - timing)"
   ]
  },
  {
   "cell_type": "code",
   "execution_count": null,
   "metadata": {},
   "outputs": [],
   "source": []
  }
 ],
 "metadata": {
  "kernelspec": {
   "display_name": "Python 3",
   "language": "python",
   "name": "python3"
  },
  "language_info": {
   "codemirror_mode": {
    "name": "ipython",
    "version": 3
   },
   "file_extension": ".py",
   "mimetype": "text/x-python",
   "name": "python",
   "nbconvert_exporter": "python",
   "pygments_lexer": "ipython3",
   "version": "3.11.3"
  }
 },
 "nbformat": 4,
 "nbformat_minor": 2
}
